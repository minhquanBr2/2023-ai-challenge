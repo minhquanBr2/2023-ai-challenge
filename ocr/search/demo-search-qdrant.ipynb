{
 "cells": [
  {
   "cell_type": "code",
   "execution_count": 16,
   "metadata": {},
   "outputs": [],
   "source": [
    "from qdrant_client import QdrantClient\n",
    "from qdrant_client.http import models\n",
    "from qdrant_client.http.models import PointStruct\n",
    "\n",
    "client = QdrantClient(host=\"localhost\", port=6333)"
   ]
  },
  {
   "cell_type": "markdown",
   "metadata": {},
   "source": [
    "**Create collection**"
   ]
  },
  {
   "cell_type": "code",
   "execution_count": 30,
   "metadata": {},
   "outputs": [
    {
     "data": {
      "text/plain": [
       "True"
      ]
     },
     "execution_count": 30,
     "metadata": {},
     "output_type": "execute_result"
    }
   ],
   "source": [
    "collection_name = \"aic2023-ocr-text\"\n",
    "\n",
    "client.recreate_collection(\n",
    "    collection_name=collection_name,\n",
    "    vectors_config=models.VectorParams(size=4, distance=models.Distance.COSINE)\n",
    ")"
   ]
  },
  {
   "cell_type": "markdown",
   "metadata": {},
   "source": [
    "**Add vectors**"
   ]
  },
  {
   "cell_type": "code",
   "execution_count": 32,
   "metadata": {},
   "outputs": [
    {
     "name": "stdout",
     "output_type": "stream",
     "text": [
      "operation_id=1 status=<UpdateStatus.COMPLETED: 'completed'>\n"
     ]
    }
   ],
   "source": [
    "points = [\n",
    "        PointStruct(id=0, vector=[0.05, 0.61, 0.76, 0.74]),\n",
    "        PointStruct(id=1, vector=[0.19, 0.81, 0.75, 0.11]),\n",
    "        PointStruct(id=2, vector=[0.36, 0.55, 0.47, 0.94]),\n",
    "        PointStruct(id=3, vector=[0.18, 0.01, 0.85, 0.80])\n",
    "    ]\n",
    "\n",
    "operation_info = client.upsert(\n",
    "    collection_name=collection_name,\n",
    "    wait=True,\n",
    "    points=points,\n",
    ")\n",
    "\n",
    "print(operation_info)"
   ]
  },
  {
   "cell_type": "markdown",
   "metadata": {},
   "source": [
    "**Add payload**"
   ]
  },
  {
   "cell_type": "code",
   "execution_count": 33,
   "metadata": {},
   "outputs": [],
   "source": [
    "ocr_text = [\"Lasagne alla Bolognese\", \"Fettuccine al Pomodoro\", \"Gnocchi di Patate\", \"Melanzane alla Parmigiana\"]\n",
    "\n",
    "for i in range(4):\n",
    "    payload = {\n",
    "        \"video_name\": \"\",\n",
    "        \"keyframe_index\": \"\",\n",
    "        \"ocr_text\": ocr_text[i]\n",
    "    }\n",
    "    client.set_payload(\n",
    "        collection_name=collection_name,\n",
    "        payload=payload,\n",
    "        points=[i]\n",
    "    )"
   ]
  },
  {
   "cell_type": "markdown",
   "metadata": {},
   "source": [
    "**Create payload index**"
   ]
  },
  {
   "cell_type": "code",
   "execution_count": 34,
   "metadata": {},
   "outputs": [
    {
     "data": {
      "text/plain": [
       "UpdateResult(operation_id=6, status=<UpdateStatus.COMPLETED: 'completed'>)"
      ]
     },
     "execution_count": 34,
     "metadata": {},
     "output_type": "execute_result"
    }
   ],
   "source": [
    "client.create_payload_index(\n",
    "    collection_name=collection_name,\n",
    "    field_name=\"ocr_text\",\n",
    "    field_schema=models.TextIndexParams(\n",
    "        type=\"text\",\n",
    "        tokenizer=models.TokenizerType.WORD,\n",
    "        min_token_len=2,\n",
    "        max_token_len=15,\n",
    "        lowercase=True,\n",
    "    )\n",
    ")"
   ]
  },
  {
   "cell_type": "code",
   "execution_count": 35,
   "metadata": {},
   "outputs": [
    {
     "data": {
      "text/plain": [
       "CollectionInfo(status=<CollectionStatus.GREEN: 'green'>, optimizer_status=<OptimizersStatusOneOf.OK: 'ok'>, vectors_count=4, indexed_vectors_count=0, points_count=4, segments_count=8, config=CollectionConfig(params=CollectionParams(vectors=VectorParams(size=4, distance=<Distance.COSINE: 'Cosine'>, hnsw_config=None, quantization_config=None, on_disk=None), shard_number=1, replication_factor=1, write_consistency_factor=1, on_disk_payload=True), hnsw_config=HnswConfig(m=16, ef_construct=100, full_scan_threshold=10000, max_indexing_threads=0, on_disk=False, payload_m=None), optimizer_config=OptimizersConfig(deleted_threshold=0.2, vacuum_min_vector_number=1000, default_segment_number=0, max_segment_size=None, memmap_threshold=None, indexing_threshold=20000, flush_interval_sec=5, max_optimization_threads=1), wal_config=WalConfig(wal_capacity_mb=32, wal_segments_ahead=0), quantization_config=None), payload_schema={'ocr_text': PayloadIndexInfo(data_type=<PayloadSchemaType.TEXT: 'text'>, params=TextIndexParams(type=<TextIndexType.TEXT: 'text'>, tokenizer=<TokenizerType.WORD: 'word'>, min_token_len=2, max_token_len=15, lowercase=True), points=4)})"
      ]
     },
     "execution_count": 35,
     "metadata": {},
     "output_type": "execute_result"
    }
   ],
   "source": [
    "# Lấy thông tin\n",
    "client.get_collection(collection_name=collection_name)"
   ]
  },
  {
   "cell_type": "code",
   "execution_count": 37,
   "metadata": {},
   "outputs": [
    {
     "ename": "ValidationError",
     "evalue": "2 validation errors for SearchRequest\nvector.NamedVector\n  Input should be a valid dictionary or instance of NamedVector [type=model_type, input_value='di patete', input_type=str]\n    For further information visit https://errors.pydantic.dev/2.2/v/model_type\nvector.list[float]\n  Input should be a valid list [type=list_type, input_value='di patete', input_type=str]\n    For further information visit https://errors.pydantic.dev/2.2/v/list_type",
     "output_type": "error",
     "traceback": [
      "\u001b[1;31m---------------------------------------------------------------------------\u001b[0m",
      "\u001b[1;31mValidationError\u001b[0m                           Traceback (most recent call last)",
      "\u001b[1;32md:\\VSCode\\2023-ai-challenge\\ocr\\paddle-ocr\\demo-search.ipynb Cell 11\u001b[0m line \u001b[0;36m3\n\u001b[0;32m      <a href='vscode-notebook-cell:/d%3A/VSCode/2023-ai-challenge/ocr/paddle-ocr/demo-search.ipynb#W5sZmlsZQ%3D%3D?line=0'>1</a>\u001b[0m \u001b[39m# Now, let's perform a full-text search\u001b[39;00m\n\u001b[0;32m      <a href='vscode-notebook-cell:/d%3A/VSCode/2023-ai-challenge/ocr/paddle-ocr/demo-search.ipynb#W5sZmlsZQ%3D%3D?line=1'>2</a>\u001b[0m query \u001b[39m=\u001b[39m \u001b[39m\"\u001b[39m\u001b[39mdi patete\u001b[39m\u001b[39m\"\u001b[39m\n\u001b[1;32m----> <a href='vscode-notebook-cell:/d%3A/VSCode/2023-ai-challenge/ocr/paddle-ocr/demo-search.ipynb#W5sZmlsZQ%3D%3D?line=2'>3</a>\u001b[0m search_results \u001b[39m=\u001b[39m client\u001b[39m.\u001b[39;49msearch(collection_name\u001b[39m=\u001b[39;49m\u001b[39m\"\u001b[39;49m\u001b[39maic2023-ocr-text\u001b[39;49m\u001b[39m\"\u001b[39;49m, query_vector\u001b[39m=\u001b[39;49mquery)\n\u001b[0;32m      <a href='vscode-notebook-cell:/d%3A/VSCode/2023-ai-challenge/ocr/paddle-ocr/demo-search.ipynb#W5sZmlsZQ%3D%3D?line=4'>5</a>\u001b[0m \u001b[39m# Print or process the search results as needed\u001b[39;00m\n\u001b[0;32m      <a href='vscode-notebook-cell:/d%3A/VSCode/2023-ai-challenge/ocr/paddle-ocr/demo-search.ipynb#W5sZmlsZQ%3D%3D?line=5'>6</a>\u001b[0m \u001b[39mprint\u001b[39m(search_results)\n",
      "File \u001b[1;32mc:\\Users\\PC\\aic2023\\Lib\\site-packages\\qdrant_client\\qdrant_client.py:298\u001b[0m, in \u001b[0;36mQdrantClient.search\u001b[1;34m(self, collection_name, query_vector, query_filter, search_params, limit, offset, with_payload, with_vectors, score_threshold, append_payload, consistency, **kwargs)\u001b[0m\n\u001b[0;32m    232\u001b[0m \u001b[39m\u001b[39m\u001b[39m\"\"\"Search for closest vectors in collection taking into account filtering conditions\u001b[39;00m\n\u001b[0;32m    233\u001b[0m \n\u001b[0;32m    234\u001b[0m \u001b[39mArgs:\u001b[39;00m\n\u001b[1;32m   (...)\u001b[0m\n\u001b[0;32m    294\u001b[0m \u001b[39m    List of found close points with similarity scores.\u001b[39;00m\n\u001b[0;32m    295\u001b[0m \u001b[39m\"\"\"\u001b[39;00m\n\u001b[0;32m    296\u001b[0m \u001b[39massert\u001b[39;00m \u001b[39mlen\u001b[39m(kwargs) \u001b[39m==\u001b[39m \u001b[39m0\u001b[39m, \u001b[39mf\u001b[39m\u001b[39m\"\u001b[39m\u001b[39mUnknown arguments: \u001b[39m\u001b[39m{\u001b[39;00m\u001b[39mlist\u001b[39m(kwargs\u001b[39m.\u001b[39mkeys())\u001b[39m}\u001b[39;00m\u001b[39m\"\u001b[39m\n\u001b[1;32m--> 298\u001b[0m \u001b[39mreturn\u001b[39;00m \u001b[39mself\u001b[39;49m\u001b[39m.\u001b[39;49m_client\u001b[39m.\u001b[39;49msearch(\n\u001b[0;32m    299\u001b[0m     collection_name\u001b[39m=\u001b[39;49mcollection_name,\n\u001b[0;32m    300\u001b[0m     query_vector\u001b[39m=\u001b[39;49mquery_vector,\n\u001b[0;32m    301\u001b[0m     query_filter\u001b[39m=\u001b[39;49mquery_filter,\n\u001b[0;32m    302\u001b[0m     search_params\u001b[39m=\u001b[39;49msearch_params,\n\u001b[0;32m    303\u001b[0m     limit\u001b[39m=\u001b[39;49mlimit,\n\u001b[0;32m    304\u001b[0m     offset\u001b[39m=\u001b[39;49moffset,\n\u001b[0;32m    305\u001b[0m     with_payload\u001b[39m=\u001b[39;49mwith_payload,\n\u001b[0;32m    306\u001b[0m     with_vectors\u001b[39m=\u001b[39;49mwith_vectors,\n\u001b[0;32m    307\u001b[0m     score_threshold\u001b[39m=\u001b[39;49mscore_threshold,\n\u001b[0;32m    308\u001b[0m     append_payload\u001b[39m=\u001b[39;49mappend_payload,\n\u001b[0;32m    309\u001b[0m     consistency\u001b[39m=\u001b[39;49mconsistency,\n\u001b[0;32m    310\u001b[0m     \u001b[39m*\u001b[39;49m\u001b[39m*\u001b[39;49mkwargs,\n\u001b[0;32m    311\u001b[0m )\n",
      "File \u001b[1;32mc:\\Users\\PC\\aic2023\\Lib\\site-packages\\qdrant_client\\qdrant_remote.py:472\u001b[0m, in \u001b[0;36mQdrantRemote.search\u001b[1;34m(self, collection_name, query_vector, query_filter, search_params, limit, offset, with_payload, with_vectors, score_threshold, append_payload, consistency, **kwargs)\u001b[0m\n\u001b[0;32m    466\u001b[0m \u001b[39mif\u001b[39;00m \u001b[39misinstance\u001b[39m(with_payload, grpc\u001b[39m.\u001b[39mWithPayloadSelector):\n\u001b[0;32m    467\u001b[0m     with_payload \u001b[39m=\u001b[39m GrpcToRest\u001b[39m.\u001b[39mconvert_with_payload_selector(with_payload)\n\u001b[0;32m    469\u001b[0m search_result \u001b[39m=\u001b[39m \u001b[39mself\u001b[39m\u001b[39m.\u001b[39mhttp\u001b[39m.\u001b[39mpoints_api\u001b[39m.\u001b[39msearch_points(\n\u001b[0;32m    470\u001b[0m     collection_name\u001b[39m=\u001b[39mcollection_name,\n\u001b[0;32m    471\u001b[0m     consistency\u001b[39m=\u001b[39mconsistency,\n\u001b[1;32m--> 472\u001b[0m     search_request\u001b[39m=\u001b[39mrest_models\u001b[39m.\u001b[39;49mSearchRequest(\n\u001b[0;32m    473\u001b[0m         vector\u001b[39m=\u001b[39;49mquery_vector,\n\u001b[0;32m    474\u001b[0m         \u001b[39mfilter\u001b[39;49m\u001b[39m=\u001b[39;49mquery_filter,\n\u001b[0;32m    475\u001b[0m         limit\u001b[39m=\u001b[39;49mlimit,\n\u001b[0;32m    476\u001b[0m         offset\u001b[39m=\u001b[39;49moffset,\n\u001b[0;32m    477\u001b[0m         params\u001b[39m=\u001b[39;49msearch_params,\n\u001b[0;32m    478\u001b[0m         with_vector\u001b[39m=\u001b[39;49mwith_vectors,\n\u001b[0;32m    479\u001b[0m         with_payload\u001b[39m=\u001b[39;49mwith_payload,\n\u001b[0;32m    480\u001b[0m         score_threshold\u001b[39m=\u001b[39;49mscore_threshold,\n\u001b[0;32m    481\u001b[0m     ),\n\u001b[0;32m    482\u001b[0m )\n\u001b[0;32m    483\u001b[0m result: Optional[List[types\u001b[39m.\u001b[39mScoredPoint]] \u001b[39m=\u001b[39m search_result\u001b[39m.\u001b[39mresult\n\u001b[0;32m    484\u001b[0m \u001b[39massert\u001b[39;00m result \u001b[39mis\u001b[39;00m \u001b[39mnot\u001b[39;00m \u001b[39mNone\u001b[39;00m, \u001b[39m\"\u001b[39m\u001b[39mSearch returned None\u001b[39m\u001b[39m\"\u001b[39m\n",
      "File \u001b[1;32mc:\\Users\\PC\\aic2023\\Lib\\site-packages\\pydantic\\main.py:159\u001b[0m, in \u001b[0;36mBaseModel.__init__\u001b[1;34m(__pydantic_self__, **data)\u001b[0m\n\u001b[0;32m    157\u001b[0m \u001b[39m# `__tracebackhide__` tells pytest and some other tools to omit this function from tracebacks\u001b[39;00m\n\u001b[0;32m    158\u001b[0m __tracebackhide__ \u001b[39m=\u001b[39m \u001b[39mTrue\u001b[39;00m\n\u001b[1;32m--> 159\u001b[0m __pydantic_self__\u001b[39m.\u001b[39;49m__pydantic_validator__\u001b[39m.\u001b[39;49mvalidate_python(data, self_instance\u001b[39m=\u001b[39;49m__pydantic_self__)\n",
      "\u001b[1;31mValidationError\u001b[0m: 2 validation errors for SearchRequest\nvector.NamedVector\n  Input should be a valid dictionary or instance of NamedVector [type=model_type, input_value='di patete', input_type=str]\n    For further information visit https://errors.pydantic.dev/2.2/v/model_type\nvector.list[float]\n  Input should be a valid list [type=list_type, input_value='di patete', input_type=str]\n    For further information visit https://errors.pydantic.dev/2.2/v/list_type"
     ]
    }
   ],
   "source": [
    "# Now, let's perform a full-text search\n",
    "query = \"di patete\"\n",
    "search_results = client.search(collection_name=\"aic2023-ocr-text\", query_vector=query)\n",
    "\n",
    "# Print or process the search results as needed\n",
    "print(search_results)"
   ]
  }
 ],
 "metadata": {
  "kernelspec": {
   "display_name": "aic2023",
   "language": "python",
   "name": "python3"
  },
  "language_info": {
   "codemirror_mode": {
    "name": "ipython",
    "version": 3
   },
   "file_extension": ".py",
   "mimetype": "text/x-python",
   "name": "python",
   "nbconvert_exporter": "python",
   "pygments_lexer": "ipython3",
   "version": "3.11.4"
  },
  "orig_nbformat": 4
 },
 "nbformat": 4,
 "nbformat_minor": 2
}
